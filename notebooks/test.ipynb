{
 "cells": [
  {
   "cell_type": "code",
   "execution_count": 3,
   "id": "b4c253a5-4930-4de3-af18-aa2e9a184ecf",
   "metadata": {},
   "outputs": [],
   "source": [
    "import re\n",
    "\n",
    "GROUPS = {\n",
    "    \"group1\": [\"file1.txt\", \"file2.txt\", \"file3.txt\"],\n",
    "    \"group2\": [\"file4.txt\", \"file5.txt\", \"file6.txt\"],\n",
    "    \"group3\": [\"file7.txt\", \"file8.txt\", \"file9.txt\"]\n",
    "}"
   ]
  },
  {
   "cell_type": "code",
   "execution_count": 6,
   "id": "f14a99b0-3e54-417b-9348-a3daea0a4277",
   "metadata": {},
   "outputs": [
    {
     "data": {
      "text/plain": [
       "['file1.txt', 'file2.txt', 'file3.txt']"
      ]
     },
     "execution_count": 6,
     "metadata": {},
     "output_type": "execute_result"
    }
   ],
   "source": [
    "GROUPS[\"group1\"]"
   ]
  }
 ],
 "metadata": {
  "kernelspec": {
   "display_name": "Python 3 (ipykernel)",
   "language": "python",
   "name": "python3"
  },
  "language_info": {
   "codemirror_mode": {
    "name": "ipython",
    "version": 3
   },
   "file_extension": ".py",
   "mimetype": "text/x-python",
   "name": "python",
   "nbconvert_exporter": "python",
   "pygments_lexer": "ipython3",
   "version": "3.12.5"
  }
 },
 "nbformat": 4,
 "nbformat_minor": 5
}
